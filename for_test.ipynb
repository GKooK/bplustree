{
 "cells": [
  {
   "cell_type": "code",
   "execution_count": 1,
   "metadata": {},
   "outputs": [],
   "source": [
    "from bptree_201720697 import Node\n",
    "from bptree_201720697 import B_PLUS_TREE as btree"
   ]
  },
  {
   "cell_type": "code",
   "execution_count": 2,
   "metadata": {},
   "outputs": [],
   "source": [
    "temp = btree(4)"
   ]
  },
  {
   "cell_type": "code",
   "execution_count": 3,
   "metadata": {},
   "outputs": [],
   "source": [
    "temp.insert(1)\n",
    "temp.insert(2)\n",
    "temp.insert(3)\n",
    "temp.insert(4)"
   ]
  },
  {
   "cell_type": "code",
   "execution_count": 4,
   "metadata": {},
   "outputs": [
    {
     "name": "stdout",
     "output_type": "stream",
     "text": [
      "[[3], [1, 2]]\n",
      "[[3], [1, 2]]\n"
     ]
    },
    {
     "data": {
      "text/plain": [
       "<bptree_201720697.Node at 0x265d365c550>"
      ]
     },
     "execution_count": 4,
     "metadata": {},
     "output_type": "execute_result"
    }
   ],
   "source": [
    "temp.find(1)\n",
    "temp.find(2)"
   ]
  },
  {
   "cell_type": "code",
   "execution_count": 5,
   "metadata": {},
   "outputs": [
    {
     "data": {
      "text/plain": [
       "[<bptree_201720697.Node at 0x265d365c550>,\n",
       " <bptree_201720697.Node at 0x265d365c220>]"
      ]
     },
     "execution_count": 5,
     "metadata": {},
     "output_type": "execute_result"
    }
   ],
   "source": [
    "temp.root.subTrees"
   ]
  },
  {
   "cell_type": "code",
   "execution_count": 6,
   "metadata": {},
   "outputs": [
    {
     "name": "stdout",
     "output_type": "stream",
     "text": [
      "[[3], [3, 4]]\n",
      "[[3], [3, 4]]\n"
     ]
    },
    {
     "data": {
      "text/plain": [
       "<bptree_201720697.Node at 0x265d365c220>"
      ]
     },
     "execution_count": 6,
     "metadata": {},
     "output_type": "execute_result"
    }
   ],
   "source": [
    "temp.find(3)\n",
    "temp.find(4)"
   ]
  },
  {
   "cell_type": "code",
   "execution_count": 7,
   "metadata": {},
   "outputs": [],
   "source": [
    "temp.insert(5)\n",
    "temp.insert(6)"
   ]
  },
  {
   "cell_type": "code",
   "execution_count": 8,
   "metadata": {},
   "outputs": [
    {
     "name": "stdout",
     "output_type": "stream",
     "text": [
      "[[3, 5], [1, 2]]\n",
      "[[3, 5], [1, 2]]\n",
      "[[3, 5], [3, 4]]\n",
      "[[3, 5], [3, 4]]\n",
      "[[3, 5], [5, 6]]\n",
      "[[3, 5], [5, 6]]\n"
     ]
    }
   ],
   "source": [
    "for i in range(1,7):\n",
    "    temp.find(i)"
   ]
  },
  {
   "cell_type": "code",
   "execution_count": 9,
   "metadata": {},
   "outputs": [],
   "source": [
    "temp.insert(7)\n",
    "temp.insert(8)"
   ]
  },
  {
   "cell_type": "code",
   "execution_count": 10,
   "metadata": {},
   "outputs": [
    {
     "name": "stdout",
     "output_type": "stream",
     "text": [
      "[[3, 5, 7], [1, 2]]\n",
      "[[3, 5, 7], [1, 2]]\n",
      "[[3, 5, 7], [3, 4]]\n",
      "[[3, 5, 7], [3, 4]]\n",
      "[[3, 5, 7], [5, 6]]\n",
      "[[3, 5, 7], [5, 6]]\n",
      "[[3, 5, 7], [7, 8]]\n",
      "[[3, 5, 7], [7, 8]]\n"
     ]
    }
   ],
   "source": [
    "for i in range(1,1+8):\n",
    "    temp.find(i)"
   ]
  },
  {
   "cell_type": "code",
   "execution_count": 11,
   "metadata": {},
   "outputs": [],
   "source": [
    "temp.insert(9)"
   ]
  },
  {
   "cell_type": "code",
   "execution_count": 12,
   "metadata": {},
   "outputs": [
    {
     "name": "stdout",
     "output_type": "stream",
     "text": [
      "[[3, 5, 7], [1, 2]]\n",
      "[[3, 5, 7], [1, 2]]\n",
      "[[3, 5, 7], [3, 4]]\n",
      "[[3, 5, 7], [3, 4]]\n",
      "[[3, 5, 7], [5, 6]]\n",
      "[[3, 5, 7], [5, 6]]\n",
      "[[3, 5, 7], [7, 8, 9]]\n",
      "[[3, 5, 7], [7, 8, 9]]\n",
      "[[3, 5, 7], [7, 8, 9]]\n"
     ]
    }
   ],
   "source": [
    "for i in range(1,1+9):\n",
    "    temp.find(i)"
   ]
  },
  {
   "cell_type": "code",
   "execution_count": 13,
   "metadata": {},
   "outputs": [],
   "source": [
    "temp.insert(10)"
   ]
  },
  {
   "cell_type": "code",
   "execution_count": 14,
   "metadata": {},
   "outputs": [
    {
     "name": "stdout",
     "output_type": "stream",
     "text": [
      "[[7], [3, 5], [1, 2]]\n",
      "[[7], [3, 5], [1, 2]]\n",
      "[[7], [3, 5], [3, 4]]\n",
      "[[7], [3, 5], [3, 4]]\n",
      "[[7], [3, 5], [5, 6]]\n",
      "[[7], [3, 5], [5, 6]]\n",
      "[[7], [9], [7, 8]]\n",
      "[[7], [9], [7, 8]]\n",
      "[[7], [9], [9, 10]]\n",
      "[[7], [9], [9, 10]]\n"
     ]
    }
   ],
   "source": [
    "for i in range(1,1+10):\n",
    "    temp.find(i)"
   ]
  },
  {
   "cell_type": "code",
   "execution_count": 15,
   "metadata": {},
   "outputs": [],
   "source": [
    "temp.insert(11)\n",
    "temp.insert(12)"
   ]
  },
  {
   "cell_type": "code",
   "execution_count": 16,
   "metadata": {},
   "outputs": [
    {
     "name": "stdout",
     "output_type": "stream",
     "text": [
      "[[7], [3, 5], [1, 2]]\n",
      "[[7], [3, 5], [1, 2]]\n",
      "[[7], [3, 5], [3, 4]]\n",
      "[[7], [3, 5], [3, 4]]\n",
      "[[7], [3, 5], [5, 6]]\n",
      "[[7], [3, 5], [5, 6]]\n",
      "[[7], [9, 11], [7, 8]]\n",
      "[[7], [9, 11], [7, 8]]\n",
      "[[7], [9, 11], [9, 10]]\n",
      "[[7], [9, 11], [9, 10]]\n",
      "[[7], [9, 11], [11, 12]]\n",
      "[[7], [9, 11], [11, 12]]\n"
     ]
    }
   ],
   "source": [
    "for i in range(1,1+12):\n",
    "    temp.find(i)"
   ]
  },
  {
   "cell_type": "code",
   "execution_count": 17,
   "metadata": {},
   "outputs": [],
   "source": [
    "def print_things(m):\n",
    "    for i in range(1, 1+m):\n",
    "        temp.find(i)"
   ]
  },
  {
   "cell_type": "code",
   "execution_count": 18,
   "metadata": {},
   "outputs": [],
   "source": [
    "def test_temp(m):\n",
    "    temp.insert(m)\n",
    "    print_things(m)"
   ]
  },
  {
   "cell_type": "code",
   "execution_count": 20,
   "metadata": {},
   "outputs": [
    {
     "name": "stdout",
     "output_type": "stream",
     "text": [
      "[[7], [3, 5], [1, 2]]\n",
      "[[7], [3, 5], [1, 2]]\n",
      "[[7], [3, 5], [3, 4]]\n",
      "[[7], [3, 5], [3, 4]]\n",
      "[[7], [3, 5], [5, 6]]\n",
      "[[7], [3, 5], [5, 6]]\n",
      "[[7], [9, 11, 13], [7, 8]]\n",
      "[[7], [9, 11, 13], [7, 8]]\n",
      "[[7], [9, 11, 13], [9, 10]]\n",
      "[[7], [9, 11, 13], [9, 10]]\n",
      "[[7], [9, 11, 13], [11, 12]]\n",
      "[[7], [9, 11, 13], [11, 12]]\n",
      "[[7], [9, 11, 13], [13, 13]]\n"
     ]
    }
   ],
   "source": [
    "test_temp(13)"
   ]
  },
  {
   "cell_type": "code",
   "execution_count": 21,
   "metadata": {},
   "outputs": [
    {
     "name": "stdout",
     "output_type": "stream",
     "text": [
      "[[7], [3, 5], [1, 2]]\n",
      "[[7], [3, 5], [1, 2]]\n",
      "[[7], [3, 5], [3, 4]]\n",
      "[[7], [3, 5], [3, 4]]\n",
      "[[7], [3, 5], [5, 6]]\n",
      "[[7], [3, 5], [5, 6]]\n",
      "[[7], [9, 11, 13], [7, 8]]\n",
      "[[7], [9, 11, 13], [7, 8]]\n",
      "[[7], [9, 11, 13], [9, 10]]\n",
      "[[7], [9, 11, 13], [9, 10]]\n",
      "[[7], [9, 11, 13], [11, 12]]\n",
      "[[7], [9, 11, 13], [11, 12]]\n",
      "[[7], [9, 11, 13], [13, 13, 14]]\n",
      "[[7], [9, 11, 13], [13, 13, 14]]\n"
     ]
    }
   ],
   "source": [
    "test_temp(14)"
   ]
  },
  {
   "cell_type": "code",
   "execution_count": 22,
   "metadata": {},
   "outputs": [
    {
     "name": "stdout",
     "output_type": "stream",
     "text": [
      "[[7, 13], [3, 5], [1, 2]]\n",
      "[[7, 13], [3, 5], [1, 2]]\n",
      "[[7, 13], [3, 5], [3, 4]]\n",
      "[[7, 13], [3, 5], [3, 4]]\n",
      "[[7, 13], [3, 5], [5, 6]]\n",
      "[[7, 13], [3, 5], [5, 6]]\n",
      "[[7, 13], [9, 11], [7, 8]]\n",
      "[[7, 13], [9, 11], [7, 8]]\n",
      "[[7, 13], [9, 11], [9, 10]]\n",
      "[[7, 13], [9, 11], [9, 10]]\n",
      "[[7, 13], [9, 11], [11, 12]]\n",
      "[[7, 13], [9, 11], [11, 12]]\n",
      "[[7, 13], [14], [13, 13]]\n",
      "[[7, 13], [14], [14, 15]]\n",
      "[[7, 13], [14], [14, 15]]\n"
     ]
    }
   ],
   "source": [
    "test_temp(15)"
   ]
  },
  {
   "cell_type": "code",
   "execution_count": 23,
   "metadata": {},
   "outputs": [
    {
     "name": "stdout",
     "output_type": "stream",
     "text": [
      "[[7, 13], [3, 5], [1, 2]]\n",
      "[[7, 13], [3, 5], [1, 2]]\n",
      "[[7, 13], [3, 5], [3, 4]]\n",
      "[[7, 13], [3, 5], [3, 4]]\n",
      "[[7, 13], [3, 5], [5, 6]]\n",
      "[[7, 13], [3, 5], [5, 6]]\n",
      "[[7, 13], [9, 11], [7, 8]]\n",
      "[[7, 13], [9, 11], [7, 8]]\n",
      "[[7, 13], [9, 11], [9, 10]]\n",
      "[[7, 13], [9, 11], [9, 10]]\n",
      "[[7, 13], [9, 11], [11, 12]]\n",
      "[[7, 13], [9, 11], [11, 12]]\n",
      "[[7, 13], [14], [13, 13]]\n",
      "[[7, 13], [14], [14, 15, 16]]\n",
      "[[7, 13], [14], [14, 15, 16]]\n",
      "[[7, 13], [14], [14, 15, 16]]\n"
     ]
    }
   ],
   "source": [
    "test_temp(16)"
   ]
  },
  {
   "cell_type": "code",
   "execution_count": null,
   "metadata": {},
   "outputs": [],
   "source": []
  }
 ],
 "metadata": {
  "interpreter": {
   "hash": "dffb6a2ec029ef6614c7baacf43fa24300bb0788a1a2edbe4e2aabec45cc245e"
  },
  "kernelspec": {
   "display_name": "Python 3.8.5 ('py38')",
   "language": "python",
   "name": "python3"
  },
  "language_info": {
   "codemirror_mode": {
    "name": "ipython",
    "version": 3
   },
   "file_extension": ".py",
   "mimetype": "text/x-python",
   "name": "python",
   "nbconvert_exporter": "python",
   "pygments_lexer": "ipython3",
   "version": "3.8.5"
  },
  "orig_nbformat": 4
 },
 "nbformat": 4,
 "nbformat_minor": 2
}
